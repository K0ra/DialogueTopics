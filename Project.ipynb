{
 "cells": [
  {
   "cell_type": "code",
   "execution_count": 152,
   "metadata": {
    "id": "eWlw-BLcxKKG"
   },
   "outputs": [],
   "source": [
    "ANALYZE_TOPICS_PROMPT = \"Do not explain what you are doing. Do not self reference. You are an expert text analyst and researcher. Extract 5 keywords for 5 key topics from the following conversation. Return the answer in this format: [['cat', 'dog', 'race', 'mouse', 'house'], ['house', 'sun', 'flower', 'mask', 'shadow'], ['dog', 'house', 'person', 'mouse', 'warm'], ['bark', 'lie', 'dog', 'person', 'lit'], ['fidel', 'castro', 'pepito', 'cojo', 'no']]\"\n"
   ]
  },
  {
   "cell_type": "code",
   "execution_count": 5,
   "metadata": {
    "colab": {
     "base_uri": "https://localhost:8080/"
    },
    "id": "nmr74U54ksQP",
    "outputId": "632dc33b-59b6-4073-86e9-5400dcf15730"
   },
   "outputs": [
    {
     "name": "stdout",
     "output_type": "stream",
     "text": [
      "Requirement already satisfied: gensim==4.3.0 in /usr/local/lib/python3.10/dist-packages (4.3.0)\n",
      "Requirement already satisfied: numpy>=1.18.5 in /usr/local/lib/python3.10/dist-packages (from gensim==4.3.0) (1.24.4)\n",
      "Requirement already satisfied: scipy>=1.7.0 in /usr/local/lib/python3.10/dist-packages (from gensim==4.3.0) (1.10.1)\n",
      "Requirement already satisfied: smart-open>=1.8.1 in /usr/local/lib/python3.10/dist-packages (from gensim==4.3.0) (7.0.5)\n",
      "Requirement already satisfied: FuzzyTM>=0.4.0 in /usr/local/lib/python3.10/dist-packages (from gensim==4.3.0) (2.0.9)\n",
      "Requirement already satisfied: pandas in /usr/local/lib/python3.10/dist-packages (from FuzzyTM>=0.4.0->gensim==4.3.0) (1.5.3)\n",
      "Requirement already satisfied: pyfume in /usr/local/lib/python3.10/dist-packages (from FuzzyTM>=0.4.0->gensim==4.3.0) (0.3.4)\n",
      "Requirement already satisfied: wrapt in /usr/local/lib/python3.10/dist-packages (from smart-open>=1.8.1->gensim==4.3.0) (1.17.0)\n",
      "Requirement already satisfied: python-dateutil>=2.8.1 in /usr/local/lib/python3.10/dist-packages (from pandas->FuzzyTM>=0.4.0->gensim==4.3.0) (2.8.2)\n",
      "Requirement already satisfied: pytz>=2020.1 in /usr/local/lib/python3.10/dist-packages (from pandas->FuzzyTM>=0.4.0->gensim==4.3.0) (2024.2)\n",
      "Requirement already satisfied: simpful==2.12.0 in /usr/local/lib/python3.10/dist-packages (from pyfume->FuzzyTM>=0.4.0->gensim==4.3.0) (2.12.0)\n",
      "Requirement already satisfied: fst-pso==1.8.1 in /usr/local/lib/python3.10/dist-packages (from pyfume->FuzzyTM>=0.4.0->gensim==4.3.0) (1.8.1)\n",
      "Requirement already satisfied: miniful in /usr/local/lib/python3.10/dist-packages (from fst-pso==1.8.1->pyfume->FuzzyTM>=0.4.0->gensim==4.3.0) (0.0.6)\n",
      "Requirement already satisfied: six>=1.5 in /usr/local/lib/python3.10/dist-packages (from python-dateutil>=2.8.1->pandas->FuzzyTM>=0.4.0->gensim==4.3.0) (1.17.0)\n"
     ]
    }
   ],
   "source": [
    "!pip install --upgrade gensim==4.3.0 # Downgrade gensim to a version containing LdaMallet in gensim.models.wrappers"
   ]
  },
  {
   "cell_type": "code",
   "execution_count": 115,
   "metadata": {
    "id": "x75rTRlnPVrl"
   },
   "outputs": [],
   "source": [
    "import pandas as pd\n",
    "import numpy as np\n",
    "import re\n",
    "import nltk\n",
    "from nltk.stem import WordNetLemmatizer\n",
    "from nltk import word_tokenize\n",
    "from nltk.corpus import stopwords\n",
    "import string\n",
    "import matplotlib.pyplot as plt\n",
    "import gensim\n",
    "import numpy as np\n",
    "import scipy.sparse.linalg as spsplin\n",
    "import scipy.sparse as spsp"
   ]
  },
  {
   "cell_type": "code",
   "execution_count": 116,
   "metadata": {
    "colab": {
     "base_uri": "https://localhost:8080/",
     "height": 206
    },
    "id": "Cg1258KgPGKN",
    "outputId": "32808bc2-186b-4dc6-b1ba-7afce5bf6b7c"
   },
   "outputs": [
    {
     "data": {
      "application/vnd.google.colaboratory.intrinsic+json": {
       "summary": "{\n  \"name\": \"df\",\n  \"rows\": 35,\n  \"fields\": [\n    {\n      \"column\": \"id\",\n      \"properties\": {\n        \"dtype\": \"number\",\n        \"std\": 10,\n        \"min\": 1,\n        \"max\": 36,\n        \"num_unique_values\": 35,\n        \"samples\": [\n          27,\n          14,\n          25\n        ],\n        \"semantic_type\": \"\",\n        \"description\": \"\"\n      }\n    },\n    {\n      \"column\": \"role\",\n      \"properties\": {\n        \"dtype\": \"category\",\n        \"num_unique_values\": 2,\n        \"samples\": [\n          \"assistant\",\n          \"user\"\n        ],\n        \"semantic_type\": \"\",\n        \"description\": \"\"\n      }\n    },\n    {\n      \"column\": \"content\",\n      \"properties\": {\n        \"dtype\": \"string\",\n        \"num_unique_values\": 22,\n        \"samples\": [\n          \"lococococo\",\n          \"\\u00bfQui\\u00e9n es la presidenta de cuba?\"\n        ],\n        \"semantic_type\": \"\",\n        \"description\": \"\"\n      }\n    },\n    {\n      \"column\": \"chat_id\",\n      \"properties\": {\n        \"dtype\": \"number\",\n        \"std\": 0,\n        \"min\": 1,\n        \"max\": 1,\n        \"num_unique_values\": 1,\n        \"samples\": [\n          1\n        ],\n        \"semantic_type\": \"\",\n        \"description\": \"\"\n      }\n    },\n    {\n      \"column\": \"created_at\",\n      \"properties\": {\n        \"dtype\": \"object\",\n        \"num_unique_values\": 33,\n        \"samples\": [\n          \"2024-12-10 20:58:43.508075+00:00\"\n        ],\n        \"semantic_type\": \"\",\n        \"description\": \"\"\n      }\n    },\n    {\n      \"column\": \"updated_at\",\n      \"properties\": {\n        \"dtype\": \"object\",\n        \"num_unique_values\": 33,\n        \"samples\": [\n          \"2024-12-10 20:58:43.508075+00:00\"\n        ],\n        \"semantic_type\": \"\",\n        \"description\": \"\"\n      }\n    }\n  ]\n}",
       "type": "dataframe",
       "variable_name": "df"
      },
      "text/html": [
       "\n",
       "  <div id=\"df-f4eaeb68-3b7f-4995-a01b-7477c8673aa5\" class=\"colab-df-container\">\n",
       "    <div>\n",
       "<style scoped>\n",
       "    .dataframe tbody tr th:only-of-type {\n",
       "        vertical-align: middle;\n",
       "    }\n",
       "\n",
       "    .dataframe tbody tr th {\n",
       "        vertical-align: top;\n",
       "    }\n",
       "\n",
       "    .dataframe thead th {\n",
       "        text-align: right;\n",
       "    }\n",
       "</style>\n",
       "<table border=\"1\" class=\"dataframe\">\n",
       "  <thead>\n",
       "    <tr style=\"text-align: right;\">\n",
       "      <th></th>\n",
       "      <th>id</th>\n",
       "      <th>role</th>\n",
       "      <th>content</th>\n",
       "      <th>chat_id</th>\n",
       "      <th>created_at</th>\n",
       "      <th>updated_at</th>\n",
       "    </tr>\n",
       "  </thead>\n",
       "  <tbody>\n",
       "    <tr>\n",
       "      <th>0</th>\n",
       "      <td>1</td>\n",
       "      <td>user</td>\n",
       "      <td>lococococo</td>\n",
       "      <td>1</td>\n",
       "      <td>2024-12-07 13:19:31.264559+00:00</td>\n",
       "      <td>2024-12-07 13:19:31.264559+00:00</td>\n",
       "    </tr>\n",
       "    <tr>\n",
       "      <th>1</th>\n",
       "      <td>2</td>\n",
       "      <td>assistant</td>\n",
       "      <td>Pepito el cojo.</td>\n",
       "      <td>1</td>\n",
       "      <td>2024-12-07 13:19:31.266073+00:00</td>\n",
       "      <td>2024-12-07 13:19:31.266073+00:00</td>\n",
       "    </tr>\n",
       "    <tr>\n",
       "      <th>2</th>\n",
       "      <td>3</td>\n",
       "      <td>user</td>\n",
       "      <td>dgbdgh</td>\n",
       "      <td>1</td>\n",
       "      <td>2024-12-07 17:11:35.946239+00:00</td>\n",
       "      <td>2024-12-07 17:11:35.947253+00:00</td>\n",
       "    </tr>\n",
       "    <tr>\n",
       "      <th>3</th>\n",
       "      <td>4</td>\n",
       "      <td>assistant</td>\n",
       "      <td>Pepito el cojo.</td>\n",
       "      <td>1</td>\n",
       "      <td>2024-12-07 17:11:35.951261+00:00</td>\n",
       "      <td>2024-12-07 17:11:35.951261+00:00</td>\n",
       "    </tr>\n",
       "    <tr>\n",
       "      <th>4</th>\n",
       "      <td>5</td>\n",
       "      <td>user</td>\n",
       "      <td>Y si me hablas de fidel?</td>\n",
       "      <td>1</td>\n",
       "      <td>2024-12-07 19:17:33.583373+00:00</td>\n",
       "      <td>2024-12-07 19:17:33.583373+00:00</td>\n",
       "    </tr>\n",
       "  </tbody>\n",
       "</table>\n",
       "</div>\n",
       "    <div class=\"colab-df-buttons\">\n",
       "\n",
       "  <div class=\"colab-df-container\">\n",
       "    <button class=\"colab-df-convert\" onclick=\"convertToInteractive('df-f4eaeb68-3b7f-4995-a01b-7477c8673aa5')\"\n",
       "            title=\"Convert this dataframe to an interactive table.\"\n",
       "            style=\"display:none;\">\n",
       "\n",
       "  <svg xmlns=\"http://www.w3.org/2000/svg\" height=\"24px\" viewBox=\"0 -960 960 960\">\n",
       "    <path d=\"M120-120v-720h720v720H120Zm60-500h600v-160H180v160Zm220 220h160v-160H400v160Zm0 220h160v-160H400v160ZM180-400h160v-160H180v160Zm440 0h160v-160H620v160ZM180-180h160v-160H180v160Zm440 0h160v-160H620v160Z\"/>\n",
       "  </svg>\n",
       "    </button>\n",
       "\n",
       "  <style>\n",
       "    .colab-df-container {\n",
       "      display:flex;\n",
       "      gap: 12px;\n",
       "    }\n",
       "\n",
       "    .colab-df-convert {\n",
       "      background-color: #E8F0FE;\n",
       "      border: none;\n",
       "      border-radius: 50%;\n",
       "      cursor: pointer;\n",
       "      display: none;\n",
       "      fill: #1967D2;\n",
       "      height: 32px;\n",
       "      padding: 0 0 0 0;\n",
       "      width: 32px;\n",
       "    }\n",
       "\n",
       "    .colab-df-convert:hover {\n",
       "      background-color: #E2EBFA;\n",
       "      box-shadow: 0px 1px 2px rgba(60, 64, 67, 0.3), 0px 1px 3px 1px rgba(60, 64, 67, 0.15);\n",
       "      fill: #174EA6;\n",
       "    }\n",
       "\n",
       "    .colab-df-buttons div {\n",
       "      margin-bottom: 4px;\n",
       "    }\n",
       "\n",
       "    [theme=dark] .colab-df-convert {\n",
       "      background-color: #3B4455;\n",
       "      fill: #D2E3FC;\n",
       "    }\n",
       "\n",
       "    [theme=dark] .colab-df-convert:hover {\n",
       "      background-color: #434B5C;\n",
       "      box-shadow: 0px 1px 3px 1px rgba(0, 0, 0, 0.15);\n",
       "      filter: drop-shadow(0px 1px 2px rgba(0, 0, 0, 0.3));\n",
       "      fill: #FFFFFF;\n",
       "    }\n",
       "  </style>\n",
       "\n",
       "    <script>\n",
       "      const buttonEl =\n",
       "        document.querySelector('#df-f4eaeb68-3b7f-4995-a01b-7477c8673aa5 button.colab-df-convert');\n",
       "      buttonEl.style.display =\n",
       "        google.colab.kernel.accessAllowed ? 'block' : 'none';\n",
       "\n",
       "      async function convertToInteractive(key) {\n",
       "        const element = document.querySelector('#df-f4eaeb68-3b7f-4995-a01b-7477c8673aa5');\n",
       "        const dataTable =\n",
       "          await google.colab.kernel.invokeFunction('convertToInteractive',\n",
       "                                                    [key], {});\n",
       "        if (!dataTable) return;\n",
       "\n",
       "        const docLinkHtml = 'Like what you see? Visit the ' +\n",
       "          '<a target=\"_blank\" href=https://colab.research.google.com/notebooks/data_table.ipynb>data table notebook</a>'\n",
       "          + ' to learn more about interactive tables.';\n",
       "        element.innerHTML = '';\n",
       "        dataTable['output_type'] = 'display_data';\n",
       "        await google.colab.output.renderOutput(dataTable, element);\n",
       "        const docLink = document.createElement('div');\n",
       "        docLink.innerHTML = docLinkHtml;\n",
       "        element.appendChild(docLink);\n",
       "      }\n",
       "    </script>\n",
       "  </div>\n",
       "\n",
       "\n",
       "<div id=\"df-1979d22d-ae8c-453b-8c90-7ebe860e77c9\">\n",
       "  <button class=\"colab-df-quickchart\" onclick=\"quickchart('df-1979d22d-ae8c-453b-8c90-7ebe860e77c9')\"\n",
       "            title=\"Suggest charts\"\n",
       "            style=\"display:none;\">\n",
       "\n",
       "<svg xmlns=\"http://www.w3.org/2000/svg\" height=\"24px\"viewBox=\"0 0 24 24\"\n",
       "     width=\"24px\">\n",
       "    <g>\n",
       "        <path d=\"M19 3H5c-1.1 0-2 .9-2 2v14c0 1.1.9 2 2 2h14c1.1 0 2-.9 2-2V5c0-1.1-.9-2-2-2zM9 17H7v-7h2v7zm4 0h-2V7h2v10zm4 0h-2v-4h2v4z\"/>\n",
       "    </g>\n",
       "</svg>\n",
       "  </button>\n",
       "\n",
       "<style>\n",
       "  .colab-df-quickchart {\n",
       "      --bg-color: #E8F0FE;\n",
       "      --fill-color: #1967D2;\n",
       "      --hover-bg-color: #E2EBFA;\n",
       "      --hover-fill-color: #174EA6;\n",
       "      --disabled-fill-color: #AAA;\n",
       "      --disabled-bg-color: #DDD;\n",
       "  }\n",
       "\n",
       "  [theme=dark] .colab-df-quickchart {\n",
       "      --bg-color: #3B4455;\n",
       "      --fill-color: #D2E3FC;\n",
       "      --hover-bg-color: #434B5C;\n",
       "      --hover-fill-color: #FFFFFF;\n",
       "      --disabled-bg-color: #3B4455;\n",
       "      --disabled-fill-color: #666;\n",
       "  }\n",
       "\n",
       "  .colab-df-quickchart {\n",
       "    background-color: var(--bg-color);\n",
       "    border: none;\n",
       "    border-radius: 50%;\n",
       "    cursor: pointer;\n",
       "    display: none;\n",
       "    fill: var(--fill-color);\n",
       "    height: 32px;\n",
       "    padding: 0;\n",
       "    width: 32px;\n",
       "  }\n",
       "\n",
       "  .colab-df-quickchart:hover {\n",
       "    background-color: var(--hover-bg-color);\n",
       "    box-shadow: 0 1px 2px rgba(60, 64, 67, 0.3), 0 1px 3px 1px rgba(60, 64, 67, 0.15);\n",
       "    fill: var(--button-hover-fill-color);\n",
       "  }\n",
       "\n",
       "  .colab-df-quickchart-complete:disabled,\n",
       "  .colab-df-quickchart-complete:disabled:hover {\n",
       "    background-color: var(--disabled-bg-color);\n",
       "    fill: var(--disabled-fill-color);\n",
       "    box-shadow: none;\n",
       "  }\n",
       "\n",
       "  .colab-df-spinner {\n",
       "    border: 2px solid var(--fill-color);\n",
       "    border-color: transparent;\n",
       "    border-bottom-color: var(--fill-color);\n",
       "    animation:\n",
       "      spin 1s steps(1) infinite;\n",
       "  }\n",
       "\n",
       "  @keyframes spin {\n",
       "    0% {\n",
       "      border-color: transparent;\n",
       "      border-bottom-color: var(--fill-color);\n",
       "      border-left-color: var(--fill-color);\n",
       "    }\n",
       "    20% {\n",
       "      border-color: transparent;\n",
       "      border-left-color: var(--fill-color);\n",
       "      border-top-color: var(--fill-color);\n",
       "    }\n",
       "    30% {\n",
       "      border-color: transparent;\n",
       "      border-left-color: var(--fill-color);\n",
       "      border-top-color: var(--fill-color);\n",
       "      border-right-color: var(--fill-color);\n",
       "    }\n",
       "    40% {\n",
       "      border-color: transparent;\n",
       "      border-right-color: var(--fill-color);\n",
       "      border-top-color: var(--fill-color);\n",
       "    }\n",
       "    60% {\n",
       "      border-color: transparent;\n",
       "      border-right-color: var(--fill-color);\n",
       "    }\n",
       "    80% {\n",
       "      border-color: transparent;\n",
       "      border-right-color: var(--fill-color);\n",
       "      border-bottom-color: var(--fill-color);\n",
       "    }\n",
       "    90% {\n",
       "      border-color: transparent;\n",
       "      border-bottom-color: var(--fill-color);\n",
       "    }\n",
       "  }\n",
       "</style>\n",
       "\n",
       "  <script>\n",
       "    async function quickchart(key) {\n",
       "      const quickchartButtonEl =\n",
       "        document.querySelector('#' + key + ' button');\n",
       "      quickchartButtonEl.disabled = true;  // To prevent multiple clicks.\n",
       "      quickchartButtonEl.classList.add('colab-df-spinner');\n",
       "      try {\n",
       "        const charts = await google.colab.kernel.invokeFunction(\n",
       "            'suggestCharts', [key], {});\n",
       "      } catch (error) {\n",
       "        console.error('Error during call to suggestCharts:', error);\n",
       "      }\n",
       "      quickchartButtonEl.classList.remove('colab-df-spinner');\n",
       "      quickchartButtonEl.classList.add('colab-df-quickchart-complete');\n",
       "    }\n",
       "    (() => {\n",
       "      let quickchartButtonEl =\n",
       "        document.querySelector('#df-1979d22d-ae8c-453b-8c90-7ebe860e77c9 button');\n",
       "      quickchartButtonEl.style.display =\n",
       "        google.colab.kernel.accessAllowed ? 'block' : 'none';\n",
       "    })();\n",
       "  </script>\n",
       "</div>\n",
       "\n",
       "    </div>\n",
       "  </div>\n"
      ],
      "text/plain": [
       "   id       role                   content  chat_id  \\\n",
       "0   1       user                lococococo        1   \n",
       "1   2  assistant           Pepito el cojo.        1   \n",
       "2   3       user                    dgbdgh        1   \n",
       "3   4  assistant           Pepito el cojo.        1   \n",
       "4   5       user  Y si me hablas de fidel?        1   \n",
       "\n",
       "                         created_at                        updated_at  \n",
       "0  2024-12-07 13:19:31.264559+00:00  2024-12-07 13:19:31.264559+00:00  \n",
       "1  2024-12-07 13:19:31.266073+00:00  2024-12-07 13:19:31.266073+00:00  \n",
       "2  2024-12-07 17:11:35.946239+00:00  2024-12-07 17:11:35.947253+00:00  \n",
       "3  2024-12-07 17:11:35.951261+00:00  2024-12-07 17:11:35.951261+00:00  \n",
       "4  2024-12-07 19:17:33.583373+00:00  2024-12-07 19:17:33.583373+00:00  "
      ]
     },
     "execution_count": 116,
     "metadata": {},
     "output_type": "execute_result"
    }
   ],
   "source": [
    "df = pd.read_csv('messages_chat_1.csv')\n",
    "df.head()"
   ]
  },
  {
   "cell_type": "markdown",
   "metadata": {
    "id": "o0jiUiJMm3Lj"
   },
   "source": [
    "#Data Preprocessing"
   ]
  },
  {
   "cell_type": "code",
   "execution_count": 117,
   "metadata": {
    "id": "jkGQ1Y8HPZhz"
   },
   "outputs": [],
   "source": [
    "black_list = ['más', 'mas', 'unir', 'paises', 'pais', 'espa', 'no', 'os', 'a', 'compa', 'acompa', 'off', 'and', 'grecia', 'the','it', 'to',\n",
    "              'd',  'et',  'dame',  'il',  'dans', 'that',  'as',   'for',  'it',  'elections',  'would',  'this',  'with', 'york', 'obama', 'chavez', 'gadafi']"
   ]
  },
  {
   "cell_type": "code",
   "execution_count": 118,
   "metadata": {
    "id": "AyF6_zQgPhxc"
   },
   "outputs": [],
   "source": [
    "def cleaner(word):\n",
    "  word = re.sub(r'((http|https)\\:\\/\\/)?[a-zA-Z0-9\\.\\/\\?\\:@\\-_=#]+\\.([a-zA-Z]){2,6}([a-zA-Z0-9\\.\\&\\/\\?\\:@\\-_=#])*', '', word, flags=re.MULTILINE)\n",
    "  word = re.sub(r'(?::|;|=)(?:-)?(?:\\)|\\(|D|P)', \"\", word)\n",
    "  word = re.sub(r'ee.uu', 'eeuu', word)\n",
    "  word = re.sub(r'\\#\\.', '', word)\n",
    "  word = re.sub(r'\\n', '', word)\n",
    "  word = re.sub(r',', '', word)\n",
    "  word = re.sub(r'\\-', ' ', word)\n",
    "  word = re.sub(r'\\.{3}', ' ', word)\n",
    "  word = re.sub(r'a{2,}', 'a', word)\n",
    "  word = re.sub(r'é{2,}', 'é', word)\n",
    "  word = re.sub(r'i{2,}', 'i', word)\n",
    "  word = re.sub(r'ja{2,}', 'ja', word)\n",
    "  word = re.sub(r'á', 'a', word)\n",
    "  word = re.sub(r'é', 'e', word)\n",
    "  word = re.sub(r'í', 'i', word)\n",
    "  word = re.sub(r'ó', 'o', word)\n",
    "  word = re.sub(r'ú', 'u', word)\n",
    "  word = re.sub('[^a-zA-Z]', ' ', word)\n",
    "  list_word_clean = []\n",
    "  for w1 in word.split(\" \"):\n",
    "    if  w1.lower() not in stopwords:\n",
    "      list_word_clean.append(w1.lower())\n",
    "\n",
    "  bigram_list = bigram[list_word_clean]\n",
    "  out_text = lemmatization(\" \".join(bigram_list))\n",
    "  return out_text"
   ]
  },
  {
   "cell_type": "code",
   "execution_count": 119,
   "metadata": {
    "id": "2GkUG3i3nXlN"
   },
   "outputs": [],
   "source": [
    "def lemmatization(texts):\n",
    "    texts_out = [ token.text for token in nlp(texts) if token.text not in black_list and len(token.text)>2]\n",
    "    return texts_out"
   ]
  },
  {
   "cell_type": "code",
   "execution_count": 11,
   "metadata": {
    "colab": {
     "base_uri": "https://localhost:8080/"
    },
    "id": "CuRGpLEFnjix",
    "outputId": "1b42fe6e-3c4a-4f8b-a0f5-3b9d9bca91fa"
   },
   "outputs": [
    {
     "data": {
      "text/plain": [
       "35"
      ]
     },
     "execution_count": 11,
     "metadata": {},
     "output_type": "execute_result"
    }
   ],
   "source": [
    "len(df.content.to_list())"
   ]
  },
  {
   "cell_type": "code",
   "execution_count": 120,
   "metadata": {
    "colab": {
     "base_uri": "https://localhost:8080/"
    },
    "id": "1XYEku4InnUs",
    "outputId": "6b182f4e-5832-4b8a-cbe1-983f86bba72b"
   },
   "outputs": [
    {
     "name": "stdout",
     "output_type": "stream",
     "text": [
      "CPU times: user 4.94 ms, sys: 0 ns, total: 4.94 ms\n",
      "Wall time: 4.98 ms\n"
     ]
    }
   ],
   "source": [
    "%%time\n",
    "bigram = gensim.models.Phrases(df.content.to_list())"
   ]
  },
  {
   "cell_type": "code",
   "execution_count": 121,
   "metadata": {
    "colab": {
     "base_uri": "https://localhost:8080/"
    },
    "id": "-DHc7tJLnu5O",
    "outputId": "7db4d96f-5fcf-4ce8-8168-2fa81fda4786"
   },
   "outputs": [
    {
     "data": {
      "text/plain": [
       "['Y', 'si', 'me', 'hablas', 'de', 'fidel?']"
      ]
     },
     "execution_count": 121,
     "metadata": {},
     "output_type": "execute_result"
    }
   ],
   "source": [
    "bigram[df.content.to_list()[4].split()]"
   ]
  },
  {
   "cell_type": "code",
   "execution_count": 122,
   "metadata": {
    "colab": {
     "base_uri": "https://localhost:8080/"
    },
    "id": "EyeFqTzIn0ik",
    "outputId": "b0599a60-42ef-4354-b613-8b50d1b77d14"
   },
   "outputs": [
    {
     "name": "stderr",
     "output_type": "stream",
     "text": [
      "[nltk_data] Downloading package stopwords to /root/nltk_data...\n",
      "[nltk_data]   Package stopwords is already up-to-date!\n",
      "[nltk_data] Downloading package punkt to /root/nltk_data...\n",
      "[nltk_data]   Package punkt is already up-to-date!\n"
     ]
    },
    {
     "data": {
      "text/plain": [
       "True"
      ]
     },
     "execution_count": 122,
     "metadata": {},
     "output_type": "execute_result"
    }
   ],
   "source": [
    "import nltk\n",
    "nltk.download('stopwords')\n",
    "nltk.download('punkt')"
   ]
  },
  {
   "cell_type": "code",
   "execution_count": 123,
   "metadata": {
    "colab": {
     "base_uri": "https://localhost:8080/"
    },
    "id": "WHdHlU2ZoH6P",
    "outputId": "af109c91-214a-4662-8c1e-9c3543e51900"
   },
   "outputs": [
    {
     "name": "stdout",
     "output_type": "stream",
     "text": [
      "{'hubiéramos', 'desde', 'elections', 'habrán', 'pais', 'habiendo', 'mías', 'tuvisteis', 'está', 'vuestra', 'with', 'estarán', 'tenéis', 'tuvieran', 'son', 'e', 'tú', 'fueses', 'habrías', 'donde', 'suyas', 'es', 'habíais', 'teníais', 'sentido', 'ya', 'seremos', 'estuvieses', 'tendrás', 'gadafi', 'nuestras', 'hayan', 'for', 'cual', 'eres', 'ante', 'esos', 'tuvimos', 'estado', 'dans', 'd', 'acompa', 'vuestros', 'la', 'esté', 'otra', 'que', 'tienen', 'fuésemos', 'estar', 'tendremos', 'muchos', 'compa', 'sentidas', 'ellas', 'chavez', 'sintiendo', 'habían', 'estarás', 'míos', 'hubisteis', 'sería', 'algo', 'con', 'hay', 'estoy', 'ni', 'unir', 'estad', 'entre', 'tendrá', 'su', 'las', 'tuvieron', 'le', 'seamos', 'and', 'tened', 'fuiste', 'grecia', 'estadas', 'tendré', 'ese', 'estaría', 'había', 'fue', 'fueseis', 'algunos', 'somos', 'el', 'tuvieseis', 'estos', 'estuviese', 'has', 'he', 'están', 'también', 'estabas', 'serías', 'todo', 'siente', 'tuviéramos', 'seáis', 'hubieran', 'hubiera', 'estados', 'habríamos', 'habías', 'york', 'estaréis', 'nosotros', 'sea', 'otros', 'estaba', 'serían', 'tuvieras', 'that', 'serás', 'hubieseis', 'estamos', 'sobre', 'cuando', 'estábamos', 'dame', 'estaríamos', 'tuyos', 'il', 'it', 'al', 'tuya', 'mucho', 'nuestra', 'otro', 'sin', 'contra', 'otras', 'éramos', 'estuvimos', 'estuviste', 'vuestro', 'uno', 'ella', 'estuve', 'hubierais', 'tuvierais', 'esta', 'fuese', 'tuyo', 'nuestros', 'suya', 'esas', 'nos', 'pero', 'habrá', 'mi', 'estaríais', 'estaban', 'estuviésemos', 'porque', 'habrían', 'habíamos', 'seríais', 'algunas', 'nuestro', 'os', 'estaremos', 'seas', 'teníamos', 'obama', 'poco', 'hayáis', 'estuviera', 'como', 'tenía', 'te', 'off', 'estará', 'tendrían', 'erais', 'a', 'quien', 'fuerais', 'fueras', 'estarías', 'habréis', 'fuimos', 'tuviera', 'sus', 'this', 'estuvieras', 'fui', 'tuviésemos', 'tendréis', 'será', 'eras', 'fuera', 'suyo', 'tendrán', 'de', 'soy', 'hubiésemos', 'haya', 'en', 'tendría', 'esto', 'hubimos', 'tenían', 'seréis', 'tuviesen', 'hubieron', 'fuisteis', 'the', 'hayas', 'tenidas', 'fuesen', 'paises', 'estuvo', 'tuve', 'tenido', 'eran', 'habríais', 'él', 'han', 'tengamos', 'tanto', 'hayamos', 'estando', 'habéis', 'et', 'tu', 'antes', 'sean', 'tuviste', 'mis', 'estuvieran', 'ellos', 'estemos', 'mí', 'hubo', 'estuvierais', 'fuéramos', 'estas', 'eso', 'tendríais', 'ti', 'estáis', 'o', 'quienes', 'mío', 'sentidos', 'hubieras', 'hasta', 'qué', 'tiene', 'tuvo', 'tendrías', 'seré', 'sí', 'les', 'estuviéramos', 'to', 'as', 'habida', 'se', 'del', 'teniendo', 'yo', 'estuviesen', 'habrás', 'hubiste', 'tenemos', 'hube', 'mía', 'hubiesen', 'seríamos', 'una', 'hemos', 'muy', 'fueran', 'estabais', 'estés', 'habido', 'estuvieseis', 'ha', 'habidas', 'mas', 'tus', 'unos', 'habidos', 'vosotras', 'hubiese', 'esa', 'habremos', 'tengo', 'tengas', 'tuvieses', 'tenías', 'estás', 'sentida', 'este', 'vuestras', 'estéis', 'tenida', 'sois', 'estuvisteis', 'un', 'hubieses', 'todos', 'serán', 'estuvieron', 'era', 'durante', 'estaré', 'vosotros', 'no', 'y', 'suyos', 'would', 'fueron', 'tengáis', 'tendríamos', 'tienes', 'nada', 'lo', 'los', 'espa', 'tuyas', 'estén', 'tenga', 'sentid', 'tuviese', 'para', 'tengan', 'estarían', 'habré', 'más', 'nosotras', 'habría', 'estada', 'tenidos', 'por', 'me'}\n"
     ]
    }
   ],
   "source": [
    "from nltk import word_tokenize\n",
    "from nltk.corpus import stopwords\n",
    "stop = set(stopwords.words('spanish'))\n",
    "\n",
    "additional_stopwords=set(black_list)\n",
    "\n",
    "stopwords = stop.union(additional_stopwords)\n",
    "\n",
    "print(stopwords)"
   ]
  },
  {
   "cell_type": "code",
   "execution_count": 124,
   "metadata": {
    "colab": {
     "base_uri": "https://localhost:8080/"
    },
    "id": "HFWAYVi5oUTs",
    "outputId": "cd340bc7-df6d-49f3-9f14-79a54a9616bb"
   },
   "outputs": [
    {
     "name": "stdout",
     "output_type": "stream",
     "text": [
      "Collecting es-core-news-md==3.7.0\n",
      "  Downloading https://github.com/explosion/spacy-models/releases/download/es_core_news_md-3.7.0/es_core_news_md-3.7.0-py3-none-any.whl (42.3 MB)\n",
      "\u001b[2K     \u001b[90m━━━━━━━━━━━━━━━━━━━━━━━━━━━━━━━━━━━━━━━━\u001b[0m \u001b[32m42.3/42.3 MB\u001b[0m \u001b[31m13.9 MB/s\u001b[0m eta \u001b[36m0:00:00\u001b[0m\n",
      "\u001b[?25hRequirement already satisfied: spacy<3.8.0,>=3.7.0 in /usr/local/lib/python3.10/dist-packages (from es-core-news-md==3.7.0) (3.7.5)\n",
      "Requirement already satisfied: spacy-legacy<3.1.0,>=3.0.11 in /usr/local/lib/python3.10/dist-packages (from spacy<3.8.0,>=3.7.0->es-core-news-md==3.7.0) (3.0.12)\n",
      "Requirement already satisfied: spacy-loggers<2.0.0,>=1.0.0 in /usr/local/lib/python3.10/dist-packages (from spacy<3.8.0,>=3.7.0->es-core-news-md==3.7.0) (1.0.5)\n",
      "Requirement already satisfied: murmurhash<1.1.0,>=0.28.0 in /usr/local/lib/python3.10/dist-packages (from spacy<3.8.0,>=3.7.0->es-core-news-md==3.7.0) (1.0.11)\n",
      "Requirement already satisfied: cymem<2.1.0,>=2.0.2 in /usr/local/lib/python3.10/dist-packages (from spacy<3.8.0,>=3.7.0->es-core-news-md==3.7.0) (2.0.10)\n",
      "Requirement already satisfied: preshed<3.1.0,>=3.0.2 in /usr/local/lib/python3.10/dist-packages (from spacy<3.8.0,>=3.7.0->es-core-news-md==3.7.0) (3.0.9)\n",
      "Requirement already satisfied: thinc<8.3.0,>=8.2.2 in /usr/local/lib/python3.10/dist-packages (from spacy<3.8.0,>=3.7.0->es-core-news-md==3.7.0) (8.2.5)\n",
      "Requirement already satisfied: wasabi<1.2.0,>=0.9.1 in /usr/local/lib/python3.10/dist-packages (from spacy<3.8.0,>=3.7.0->es-core-news-md==3.7.0) (1.1.3)\n",
      "Requirement already satisfied: srsly<3.0.0,>=2.4.3 in /usr/local/lib/python3.10/dist-packages (from spacy<3.8.0,>=3.7.0->es-core-news-md==3.7.0) (2.5.0)\n",
      "Requirement already satisfied: catalogue<2.1.0,>=2.0.6 in /usr/local/lib/python3.10/dist-packages (from spacy<3.8.0,>=3.7.0->es-core-news-md==3.7.0) (2.0.10)\n",
      "Requirement already satisfied: weasel<0.5.0,>=0.1.0 in /usr/local/lib/python3.10/dist-packages (from spacy<3.8.0,>=3.7.0->es-core-news-md==3.7.0) (0.4.1)\n",
      "Requirement already satisfied: typer<1.0.0,>=0.3.0 in /usr/local/lib/python3.10/dist-packages (from spacy<3.8.0,>=3.7.0->es-core-news-md==3.7.0) (0.15.1)\n",
      "Requirement already satisfied: tqdm<5.0.0,>=4.38.0 in /usr/local/lib/python3.10/dist-packages (from spacy<3.8.0,>=3.7.0->es-core-news-md==3.7.0) (4.67.1)\n",
      "Requirement already satisfied: requests<3.0.0,>=2.13.0 in /usr/local/lib/python3.10/dist-packages (from spacy<3.8.0,>=3.7.0->es-core-news-md==3.7.0) (2.32.3)\n",
      "Requirement already satisfied: pydantic!=1.8,!=1.8.1,<3.0.0,>=1.7.4 in /usr/local/lib/python3.10/dist-packages (from spacy<3.8.0,>=3.7.0->es-core-news-md==3.7.0) (2.10.3)\n",
      "Requirement already satisfied: jinja2 in /usr/local/lib/python3.10/dist-packages (from spacy<3.8.0,>=3.7.0->es-core-news-md==3.7.0) (3.1.4)\n",
      "Requirement already satisfied: setuptools in /usr/local/lib/python3.10/dist-packages (from spacy<3.8.0,>=3.7.0->es-core-news-md==3.7.0) (75.1.0)\n",
      "Requirement already satisfied: packaging>=20.0 in /usr/local/lib/python3.10/dist-packages (from spacy<3.8.0,>=3.7.0->es-core-news-md==3.7.0) (24.2)\n",
      "Requirement already satisfied: langcodes<4.0.0,>=3.2.0 in /usr/local/lib/python3.10/dist-packages (from spacy<3.8.0,>=3.7.0->es-core-news-md==3.7.0) (3.5.0)\n",
      "Requirement already satisfied: numpy>=1.19.0 in /usr/local/lib/python3.10/dist-packages (from spacy<3.8.0,>=3.7.0->es-core-news-md==3.7.0) (1.24.4)\n",
      "Requirement already satisfied: language-data>=1.2 in /usr/local/lib/python3.10/dist-packages (from langcodes<4.0.0,>=3.2.0->spacy<3.8.0,>=3.7.0->es-core-news-md==3.7.0) (1.3.0)\n",
      "Requirement already satisfied: annotated-types>=0.6.0 in /usr/local/lib/python3.10/dist-packages (from pydantic!=1.8,!=1.8.1,<3.0.0,>=1.7.4->spacy<3.8.0,>=3.7.0->es-core-news-md==3.7.0) (0.7.0)\n",
      "Requirement already satisfied: pydantic-core==2.27.1 in /usr/local/lib/python3.10/dist-packages (from pydantic!=1.8,!=1.8.1,<3.0.0,>=1.7.4->spacy<3.8.0,>=3.7.0->es-core-news-md==3.7.0) (2.27.1)\n",
      "Requirement already satisfied: typing-extensions>=4.12.2 in /usr/local/lib/python3.10/dist-packages (from pydantic!=1.8,!=1.8.1,<3.0.0,>=1.7.4->spacy<3.8.0,>=3.7.0->es-core-news-md==3.7.0) (4.12.2)\n",
      "Requirement already satisfied: charset-normalizer<4,>=2 in /usr/local/lib/python3.10/dist-packages (from requests<3.0.0,>=2.13.0->spacy<3.8.0,>=3.7.0->es-core-news-md==3.7.0) (3.4.0)\n",
      "Requirement already satisfied: idna<4,>=2.5 in /usr/local/lib/python3.10/dist-packages (from requests<3.0.0,>=2.13.0->spacy<3.8.0,>=3.7.0->es-core-news-md==3.7.0) (3.10)\n",
      "Requirement already satisfied: urllib3<3,>=1.21.1 in /usr/local/lib/python3.10/dist-packages (from requests<3.0.0,>=2.13.0->spacy<3.8.0,>=3.7.0->es-core-news-md==3.7.0) (2.2.3)\n",
      "Requirement already satisfied: certifi>=2017.4.17 in /usr/local/lib/python3.10/dist-packages (from requests<3.0.0,>=2.13.0->spacy<3.8.0,>=3.7.0->es-core-news-md==3.7.0) (2024.12.14)\n",
      "Requirement already satisfied: blis<0.8.0,>=0.7.8 in /usr/local/lib/python3.10/dist-packages (from thinc<8.3.0,>=8.2.2->spacy<3.8.0,>=3.7.0->es-core-news-md==3.7.0) (0.7.11)\n",
      "Requirement already satisfied: confection<1.0.0,>=0.0.1 in /usr/local/lib/python3.10/dist-packages (from thinc<8.3.0,>=8.2.2->spacy<3.8.0,>=3.7.0->es-core-news-md==3.7.0) (0.1.5)\n",
      "Requirement already satisfied: click>=8.0.0 in /usr/local/lib/python3.10/dist-packages (from typer<1.0.0,>=0.3.0->spacy<3.8.0,>=3.7.0->es-core-news-md==3.7.0) (8.1.7)\n",
      "Requirement already satisfied: shellingham>=1.3.0 in /usr/local/lib/python3.10/dist-packages (from typer<1.0.0,>=0.3.0->spacy<3.8.0,>=3.7.0->es-core-news-md==3.7.0) (1.5.4)\n",
      "Requirement already satisfied: rich>=10.11.0 in /usr/local/lib/python3.10/dist-packages (from typer<1.0.0,>=0.3.0->spacy<3.8.0,>=3.7.0->es-core-news-md==3.7.0) (13.9.4)\n",
      "Requirement already satisfied: cloudpathlib<1.0.0,>=0.7.0 in /usr/local/lib/python3.10/dist-packages (from weasel<0.5.0,>=0.1.0->spacy<3.8.0,>=3.7.0->es-core-news-md==3.7.0) (0.20.0)\n",
      "Requirement already satisfied: smart-open<8.0.0,>=5.2.1 in /usr/local/lib/python3.10/dist-packages (from weasel<0.5.0,>=0.1.0->spacy<3.8.0,>=3.7.0->es-core-news-md==3.7.0) (7.0.5)\n",
      "Requirement already satisfied: MarkupSafe>=2.0 in /usr/local/lib/python3.10/dist-packages (from jinja2->spacy<3.8.0,>=3.7.0->es-core-news-md==3.7.0) (3.0.2)\n",
      "Requirement already satisfied: marisa-trie>=1.1.0 in /usr/local/lib/python3.10/dist-packages (from language-data>=1.2->langcodes<4.0.0,>=3.2.0->spacy<3.8.0,>=3.7.0->es-core-news-md==3.7.0) (1.2.1)\n",
      "Requirement already satisfied: markdown-it-py>=2.2.0 in /usr/local/lib/python3.10/dist-packages (from rich>=10.11.0->typer<1.0.0,>=0.3.0->spacy<3.8.0,>=3.7.0->es-core-news-md==3.7.0) (3.0.0)\n",
      "Requirement already satisfied: pygments<3.0.0,>=2.13.0 in /usr/local/lib/python3.10/dist-packages (from rich>=10.11.0->typer<1.0.0,>=0.3.0->spacy<3.8.0,>=3.7.0->es-core-news-md==3.7.0) (2.18.0)\n",
      "Requirement already satisfied: wrapt in /usr/local/lib/python3.10/dist-packages (from smart-open<8.0.0,>=5.2.1->weasel<0.5.0,>=0.1.0->spacy<3.8.0,>=3.7.0->es-core-news-md==3.7.0) (1.17.0)\n",
      "Requirement already satisfied: mdurl~=0.1 in /usr/local/lib/python3.10/dist-packages (from markdown-it-py>=2.2.0->rich>=10.11.0->typer<1.0.0,>=0.3.0->spacy<3.8.0,>=3.7.0->es-core-news-md==3.7.0) (0.1.2)\n",
      "\u001b[38;5;2m✔ Download and installation successful\u001b[0m\n",
      "You can now load the package via spacy.load('es_core_news_md')\n",
      "\u001b[38;5;3m⚠ Restart to reload dependencies\u001b[0m\n",
      "If you are in a Jupyter or Colab notebook, you may need to restart Python in\n",
      "order to load all the package's dependencies. You can do this by selecting the\n",
      "'Restart kernel' or 'Restart runtime' option.\n"
     ]
    }
   ],
   "source": [
    "!python -m spacy download es_core_news_md"
   ]
  },
  {
   "cell_type": "code",
   "execution_count": 17,
   "metadata": {
    "id": "dhuNoDVwog3r"
   },
   "outputs": [],
   "source": [
    "import spacy\n",
    "nlp = spacy.load('es_core_news_md')"
   ]
  },
  {
   "cell_type": "code",
   "execution_count": 18,
   "metadata": {
    "colab": {
     "base_uri": "https://localhost:8080/"
    },
    "id": "AHt7KZq4pnWV",
    "outputId": "77c30446-c6a4-41a8-b585-d1c3144e6d0a"
   },
   "outputs": [
    {
     "data": {
      "text/plain": [
       "['fidel',\n",
       " 'castro',\n",
       " 'lider',\n",
       " 'politico',\n",
       " 'cubano',\n",
       " 'goberno',\n",
       " 'cuba',\n",
       " 'tras',\n",
       " 'liderar',\n",
       " 'revolucion',\n",
       " 'cubana',\n",
       " 'derroco',\n",
       " 'fulgencio',\n",
       " 'batista',\n",
       " 'conocido',\n",
       " 'implementar',\n",
       " 'sistema',\n",
       " 'comunista']"
      ]
     },
     "execution_count": 18,
     "metadata": {},
     "output_type": "execute_result"
    }
   ],
   "source": [
    "cleaner(df.content[17])"
   ]
  },
  {
   "cell_type": "code",
   "execution_count": 19,
   "metadata": {
    "id": "8N6T3DTsr0hh"
   },
   "outputs": [],
   "source": [
    "tokenized_doc = df['content'].apply(cleaner)\n",
    "\n",
    "# de-tokenization\n",
    "detokenized_doc = []\n",
    "for i in range(len(df)):\n",
    "    t = ' '.join(tokenized_doc[i])\n",
    "    detokenized_doc.append(t)"
   ]
  },
  {
   "cell_type": "code",
   "execution_count": 126,
   "metadata": {
    "colab": {
     "base_uri": "https://localhost:8080/"
    },
    "id": "D6bit2EQp1bH",
    "outputId": "d7663add-a928-4445-8b14-85e3d8d157b1"
   },
   "outputs": [
    {
     "name": "stdout",
     "output_type": "stream",
     "text": [
      "CPU times: user 1.9 ms, sys: 0 ns, total: 1.9 ms\n",
      "Wall time: 1.91 ms\n"
     ]
    }
   ],
   "source": [
    "%%time\n",
    "df['clean_content'] = detokenized_doc"
   ]
  },
  {
   "cell_type": "code",
   "execution_count": 127,
   "metadata": {
    "colab": {
     "base_uri": "https://localhost:8080/",
     "height": 206
    },
    "id": "b3GIBaFqqZ3a",
    "outputId": "d045b913-5bd6-4034-c840-33348410f7c5"
   },
   "outputs": [
    {
     "data": {
      "application/vnd.google.colaboratory.intrinsic+json": {
       "summary": "{\n  \"name\": \"df\",\n  \"rows\": 35,\n  \"fields\": [\n    {\n      \"column\": \"id\",\n      \"properties\": {\n        \"dtype\": \"number\",\n        \"std\": 10,\n        \"min\": 1,\n        \"max\": 36,\n        \"num_unique_values\": 35,\n        \"samples\": [\n          27,\n          14,\n          25\n        ],\n        \"semantic_type\": \"\",\n        \"description\": \"\"\n      }\n    },\n    {\n      \"column\": \"role\",\n      \"properties\": {\n        \"dtype\": \"category\",\n        \"num_unique_values\": 2,\n        \"samples\": [\n          \"assistant\",\n          \"user\"\n        ],\n        \"semantic_type\": \"\",\n        \"description\": \"\"\n      }\n    },\n    {\n      \"column\": \"content\",\n      \"properties\": {\n        \"dtype\": \"string\",\n        \"num_unique_values\": 22,\n        \"samples\": [\n          \"lococococo\",\n          \"\\u00bfQui\\u00e9n es la presidenta de cuba?\"\n        ],\n        \"semantic_type\": \"\",\n        \"description\": \"\"\n      }\n    },\n    {\n      \"column\": \"chat_id\",\n      \"properties\": {\n        \"dtype\": \"number\",\n        \"std\": 0,\n        \"min\": 1,\n        \"max\": 1,\n        \"num_unique_values\": 1,\n        \"samples\": [\n          1\n        ],\n        \"semantic_type\": \"\",\n        \"description\": \"\"\n      }\n    },\n    {\n      \"column\": \"created_at\",\n      \"properties\": {\n        \"dtype\": \"object\",\n        \"num_unique_values\": 33,\n        \"samples\": [\n          \"2024-12-10 20:58:43.508075+00:00\"\n        ],\n        \"semantic_type\": \"\",\n        \"description\": \"\"\n      }\n    },\n    {\n      \"column\": \"updated_at\",\n      \"properties\": {\n        \"dtype\": \"object\",\n        \"num_unique_values\": 33,\n        \"samples\": [\n          \"2024-12-10 20:58:43.508075+00:00\"\n        ],\n        \"semantic_type\": \"\",\n        \"description\": \"\"\n      }\n    },\n    {\n      \"column\": \"clean_content\",\n      \"properties\": {\n        \"dtype\": \"string\",\n        \"num_unique_values\": 21,\n        \"samples\": [\n          \"lococococo\"\n        ],\n        \"semantic_type\": \"\",\n        \"description\": \"\"\n      }\n    }\n  ]\n}",
       "type": "dataframe",
       "variable_name": "df"
      },
      "text/html": [
       "\n",
       "  <div id=\"df-fada393e-1852-451c-afa9-c8a89ff29560\" class=\"colab-df-container\">\n",
       "    <div>\n",
       "<style scoped>\n",
       "    .dataframe tbody tr th:only-of-type {\n",
       "        vertical-align: middle;\n",
       "    }\n",
       "\n",
       "    .dataframe tbody tr th {\n",
       "        vertical-align: top;\n",
       "    }\n",
       "\n",
       "    .dataframe thead th {\n",
       "        text-align: right;\n",
       "    }\n",
       "</style>\n",
       "<table border=\"1\" class=\"dataframe\">\n",
       "  <thead>\n",
       "    <tr style=\"text-align: right;\">\n",
       "      <th></th>\n",
       "      <th>id</th>\n",
       "      <th>role</th>\n",
       "      <th>content</th>\n",
       "      <th>chat_id</th>\n",
       "      <th>created_at</th>\n",
       "      <th>updated_at</th>\n",
       "      <th>clean_content</th>\n",
       "    </tr>\n",
       "  </thead>\n",
       "  <tbody>\n",
       "    <tr>\n",
       "      <th>0</th>\n",
       "      <td>1</td>\n",
       "      <td>user</td>\n",
       "      <td>lococococo</td>\n",
       "      <td>1</td>\n",
       "      <td>2024-12-07 13:19:31.264559+00:00</td>\n",
       "      <td>2024-12-07 13:19:31.264559+00:00</td>\n",
       "      <td>lococococo</td>\n",
       "    </tr>\n",
       "    <tr>\n",
       "      <th>1</th>\n",
       "      <td>2</td>\n",
       "      <td>assistant</td>\n",
       "      <td>Pepito el cojo.</td>\n",
       "      <td>1</td>\n",
       "      <td>2024-12-07 13:19:31.266073+00:00</td>\n",
       "      <td>2024-12-07 13:19:31.266073+00:00</td>\n",
       "      <td>pepito cojo</td>\n",
       "    </tr>\n",
       "    <tr>\n",
       "      <th>2</th>\n",
       "      <td>3</td>\n",
       "      <td>user</td>\n",
       "      <td>dgbdgh</td>\n",
       "      <td>1</td>\n",
       "      <td>2024-12-07 17:11:35.946239+00:00</td>\n",
       "      <td>2024-12-07 17:11:35.947253+00:00</td>\n",
       "      <td>dgbdgh</td>\n",
       "    </tr>\n",
       "    <tr>\n",
       "      <th>3</th>\n",
       "      <td>4</td>\n",
       "      <td>assistant</td>\n",
       "      <td>Pepito el cojo.</td>\n",
       "      <td>1</td>\n",
       "      <td>2024-12-07 17:11:35.951261+00:00</td>\n",
       "      <td>2024-12-07 17:11:35.951261+00:00</td>\n",
       "      <td>pepito cojo</td>\n",
       "    </tr>\n",
       "    <tr>\n",
       "      <th>4</th>\n",
       "      <td>5</td>\n",
       "      <td>user</td>\n",
       "      <td>Y si me hablas de fidel?</td>\n",
       "      <td>1</td>\n",
       "      <td>2024-12-07 19:17:33.583373+00:00</td>\n",
       "      <td>2024-12-07 19:17:33.583373+00:00</td>\n",
       "      <td>hablas fidel</td>\n",
       "    </tr>\n",
       "  </tbody>\n",
       "</table>\n",
       "</div>\n",
       "    <div class=\"colab-df-buttons\">\n",
       "\n",
       "  <div class=\"colab-df-container\">\n",
       "    <button class=\"colab-df-convert\" onclick=\"convertToInteractive('df-fada393e-1852-451c-afa9-c8a89ff29560')\"\n",
       "            title=\"Convert this dataframe to an interactive table.\"\n",
       "            style=\"display:none;\">\n",
       "\n",
       "  <svg xmlns=\"http://www.w3.org/2000/svg\" height=\"24px\" viewBox=\"0 -960 960 960\">\n",
       "    <path d=\"M120-120v-720h720v720H120Zm60-500h600v-160H180v160Zm220 220h160v-160H400v160Zm0 220h160v-160H400v160ZM180-400h160v-160H180v160Zm440 0h160v-160H620v160ZM180-180h160v-160H180v160Zm440 0h160v-160H620v160Z\"/>\n",
       "  </svg>\n",
       "    </button>\n",
       "\n",
       "  <style>\n",
       "    .colab-df-container {\n",
       "      display:flex;\n",
       "      gap: 12px;\n",
       "    }\n",
       "\n",
       "    .colab-df-convert {\n",
       "      background-color: #E8F0FE;\n",
       "      border: none;\n",
       "      border-radius: 50%;\n",
       "      cursor: pointer;\n",
       "      display: none;\n",
       "      fill: #1967D2;\n",
       "      height: 32px;\n",
       "      padding: 0 0 0 0;\n",
       "      width: 32px;\n",
       "    }\n",
       "\n",
       "    .colab-df-convert:hover {\n",
       "      background-color: #E2EBFA;\n",
       "      box-shadow: 0px 1px 2px rgba(60, 64, 67, 0.3), 0px 1px 3px 1px rgba(60, 64, 67, 0.15);\n",
       "      fill: #174EA6;\n",
       "    }\n",
       "\n",
       "    .colab-df-buttons div {\n",
       "      margin-bottom: 4px;\n",
       "    }\n",
       "\n",
       "    [theme=dark] .colab-df-convert {\n",
       "      background-color: #3B4455;\n",
       "      fill: #D2E3FC;\n",
       "    }\n",
       "\n",
       "    [theme=dark] .colab-df-convert:hover {\n",
       "      background-color: #434B5C;\n",
       "      box-shadow: 0px 1px 3px 1px rgba(0, 0, 0, 0.15);\n",
       "      filter: drop-shadow(0px 1px 2px rgba(0, 0, 0, 0.3));\n",
       "      fill: #FFFFFF;\n",
       "    }\n",
       "  </style>\n",
       "\n",
       "    <script>\n",
       "      const buttonEl =\n",
       "        document.querySelector('#df-fada393e-1852-451c-afa9-c8a89ff29560 button.colab-df-convert');\n",
       "      buttonEl.style.display =\n",
       "        google.colab.kernel.accessAllowed ? 'block' : 'none';\n",
       "\n",
       "      async function convertToInteractive(key) {\n",
       "        const element = document.querySelector('#df-fada393e-1852-451c-afa9-c8a89ff29560');\n",
       "        const dataTable =\n",
       "          await google.colab.kernel.invokeFunction('convertToInteractive',\n",
       "                                                    [key], {});\n",
       "        if (!dataTable) return;\n",
       "\n",
       "        const docLinkHtml = 'Like what you see? Visit the ' +\n",
       "          '<a target=\"_blank\" href=https://colab.research.google.com/notebooks/data_table.ipynb>data table notebook</a>'\n",
       "          + ' to learn more about interactive tables.';\n",
       "        element.innerHTML = '';\n",
       "        dataTable['output_type'] = 'display_data';\n",
       "        await google.colab.output.renderOutput(dataTable, element);\n",
       "        const docLink = document.createElement('div');\n",
       "        docLink.innerHTML = docLinkHtml;\n",
       "        element.appendChild(docLink);\n",
       "      }\n",
       "    </script>\n",
       "  </div>\n",
       "\n",
       "\n",
       "<div id=\"df-54d10773-7e73-4081-b0b9-749d5b50a6bf\">\n",
       "  <button class=\"colab-df-quickchart\" onclick=\"quickchart('df-54d10773-7e73-4081-b0b9-749d5b50a6bf')\"\n",
       "            title=\"Suggest charts\"\n",
       "            style=\"display:none;\">\n",
       "\n",
       "<svg xmlns=\"http://www.w3.org/2000/svg\" height=\"24px\"viewBox=\"0 0 24 24\"\n",
       "     width=\"24px\">\n",
       "    <g>\n",
       "        <path d=\"M19 3H5c-1.1 0-2 .9-2 2v14c0 1.1.9 2 2 2h14c1.1 0 2-.9 2-2V5c0-1.1-.9-2-2-2zM9 17H7v-7h2v7zm4 0h-2V7h2v10zm4 0h-2v-4h2v4z\"/>\n",
       "    </g>\n",
       "</svg>\n",
       "  </button>\n",
       "\n",
       "<style>\n",
       "  .colab-df-quickchart {\n",
       "      --bg-color: #E8F0FE;\n",
       "      --fill-color: #1967D2;\n",
       "      --hover-bg-color: #E2EBFA;\n",
       "      --hover-fill-color: #174EA6;\n",
       "      --disabled-fill-color: #AAA;\n",
       "      --disabled-bg-color: #DDD;\n",
       "  }\n",
       "\n",
       "  [theme=dark] .colab-df-quickchart {\n",
       "      --bg-color: #3B4455;\n",
       "      --fill-color: #D2E3FC;\n",
       "      --hover-bg-color: #434B5C;\n",
       "      --hover-fill-color: #FFFFFF;\n",
       "      --disabled-bg-color: #3B4455;\n",
       "      --disabled-fill-color: #666;\n",
       "  }\n",
       "\n",
       "  .colab-df-quickchart {\n",
       "    background-color: var(--bg-color);\n",
       "    border: none;\n",
       "    border-radius: 50%;\n",
       "    cursor: pointer;\n",
       "    display: none;\n",
       "    fill: var(--fill-color);\n",
       "    height: 32px;\n",
       "    padding: 0;\n",
       "    width: 32px;\n",
       "  }\n",
       "\n",
       "  .colab-df-quickchart:hover {\n",
       "    background-color: var(--hover-bg-color);\n",
       "    box-shadow: 0 1px 2px rgba(60, 64, 67, 0.3), 0 1px 3px 1px rgba(60, 64, 67, 0.15);\n",
       "    fill: var(--button-hover-fill-color);\n",
       "  }\n",
       "\n",
       "  .colab-df-quickchart-complete:disabled,\n",
       "  .colab-df-quickchart-complete:disabled:hover {\n",
       "    background-color: var(--disabled-bg-color);\n",
       "    fill: var(--disabled-fill-color);\n",
       "    box-shadow: none;\n",
       "  }\n",
       "\n",
       "  .colab-df-spinner {\n",
       "    border: 2px solid var(--fill-color);\n",
       "    border-color: transparent;\n",
       "    border-bottom-color: var(--fill-color);\n",
       "    animation:\n",
       "      spin 1s steps(1) infinite;\n",
       "  }\n",
       "\n",
       "  @keyframes spin {\n",
       "    0% {\n",
       "      border-color: transparent;\n",
       "      border-bottom-color: var(--fill-color);\n",
       "      border-left-color: var(--fill-color);\n",
       "    }\n",
       "    20% {\n",
       "      border-color: transparent;\n",
       "      border-left-color: var(--fill-color);\n",
       "      border-top-color: var(--fill-color);\n",
       "    }\n",
       "    30% {\n",
       "      border-color: transparent;\n",
       "      border-left-color: var(--fill-color);\n",
       "      border-top-color: var(--fill-color);\n",
       "      border-right-color: var(--fill-color);\n",
       "    }\n",
       "    40% {\n",
       "      border-color: transparent;\n",
       "      border-right-color: var(--fill-color);\n",
       "      border-top-color: var(--fill-color);\n",
       "    }\n",
       "    60% {\n",
       "      border-color: transparent;\n",
       "      border-right-color: var(--fill-color);\n",
       "    }\n",
       "    80% {\n",
       "      border-color: transparent;\n",
       "      border-right-color: var(--fill-color);\n",
       "      border-bottom-color: var(--fill-color);\n",
       "    }\n",
       "    90% {\n",
       "      border-color: transparent;\n",
       "      border-bottom-color: var(--fill-color);\n",
       "    }\n",
       "  }\n",
       "</style>\n",
       "\n",
       "  <script>\n",
       "    async function quickchart(key) {\n",
       "      const quickchartButtonEl =\n",
       "        document.querySelector('#' + key + ' button');\n",
       "      quickchartButtonEl.disabled = true;  // To prevent multiple clicks.\n",
       "      quickchartButtonEl.classList.add('colab-df-spinner');\n",
       "      try {\n",
       "        const charts = await google.colab.kernel.invokeFunction(\n",
       "            'suggestCharts', [key], {});\n",
       "      } catch (error) {\n",
       "        console.error('Error during call to suggestCharts:', error);\n",
       "      }\n",
       "      quickchartButtonEl.classList.remove('colab-df-spinner');\n",
       "      quickchartButtonEl.classList.add('colab-df-quickchart-complete');\n",
       "    }\n",
       "    (() => {\n",
       "      let quickchartButtonEl =\n",
       "        document.querySelector('#df-54d10773-7e73-4081-b0b9-749d5b50a6bf button');\n",
       "      quickchartButtonEl.style.display =\n",
       "        google.colab.kernel.accessAllowed ? 'block' : 'none';\n",
       "    })();\n",
       "  </script>\n",
       "</div>\n",
       "\n",
       "    </div>\n",
       "  </div>\n"
      ],
      "text/plain": [
       "   id       role                   content  chat_id  \\\n",
       "0   1       user                lococococo        1   \n",
       "1   2  assistant           Pepito el cojo.        1   \n",
       "2   3       user                    dgbdgh        1   \n",
       "3   4  assistant           Pepito el cojo.        1   \n",
       "4   5       user  Y si me hablas de fidel?        1   \n",
       "\n",
       "                         created_at                        updated_at  \\\n",
       "0  2024-12-07 13:19:31.264559+00:00  2024-12-07 13:19:31.264559+00:00   \n",
       "1  2024-12-07 13:19:31.266073+00:00  2024-12-07 13:19:31.266073+00:00   \n",
       "2  2024-12-07 17:11:35.946239+00:00  2024-12-07 17:11:35.947253+00:00   \n",
       "3  2024-12-07 17:11:35.951261+00:00  2024-12-07 17:11:35.951261+00:00   \n",
       "4  2024-12-07 19:17:33.583373+00:00  2024-12-07 19:17:33.583373+00:00   \n",
       "\n",
       "  clean_content  \n",
       "0    lococococo  \n",
       "1   pepito cojo  \n",
       "2        dgbdgh  \n",
       "3   pepito cojo  \n",
       "4  hablas fidel  "
      ]
     },
     "execution_count": 127,
     "metadata": {},
     "output_type": "execute_result"
    }
   ],
   "source": [
    "df.head()"
   ]
  },
  {
   "cell_type": "markdown",
   "metadata": {
    "id": "Q8SHijBnIH1b"
   },
   "source": [
    "#SVD"
   ]
  },
  {
   "cell_type": "code",
   "execution_count": 128,
   "metadata": {
    "colab": {
     "base_uri": "https://localhost:8080/"
    },
    "id": "VrtZJ_TxqbLu",
    "outputId": "086d907a-a0b6-4614-946b-73629a37a6bb"
   },
   "outputs": [
    {
     "data": {
      "text/plain": [
       "(35, 90)"
      ]
     },
     "execution_count": 128,
     "metadata": {},
     "output_type": "execute_result"
    }
   ],
   "source": [
    "from sklearn.feature_extraction.text import CountVectorizer\n",
    "from sklearn.feature_extraction.text import TfidfVectorizer\n",
    "\n",
    "vectorizer = CountVectorizer()\n",
    "# vectorizer = TfidfVectorizer()\n",
    "\n",
    "X = vectorizer.fit_transform(df['clean_content'])\n",
    "\n",
    "X.shape"
   ]
  },
  {
   "cell_type": "code",
   "execution_count": 129,
   "metadata": {
    "colab": {
     "base_uri": "https://localhost:8080/",
     "height": 436
    },
    "id": "mgVXxVQs5VHY",
    "outputId": "1e82e887-a84f-4a54-fcae-c4408b54c66c"
   },
   "outputs": [
    {
     "data": {
      "image/png": "[encoded data removed]",
      "text/plain": [
       "<Figure size 1000x2000 with 1 Axes>"
      ]
     },
     "metadata": {},
     "output_type": "display_data"
    },
    {
     "name": "stdout",
     "output_type": "stream",
     "text": [
      "207 (35, 90)\n"
     ]
    }
   ],
   "source": [
    "plt.figure(figsize=(10, 20))\n",
    "plt.spy(X, markersize=0.6)\n",
    "plt.xlabel(\"Terms\", fontsize=14)\n",
    "plt.ylabel(\"Documents\", fontsize=14)\n",
    "plt.xticks(fontsize=12)\n",
    "plt.yticks(fontsize=12)\n",
    "plt.title(\"Document-Term Matrix\", fontsize=15)\n",
    "plt.show()\n",
    "print(X.nnz, X.shape)"
   ]
  },
  {
   "cell_type": "code",
   "execution_count": 130,
   "metadata": {
    "colab": {
     "base_uri": "https://localhost:8080/"
    },
    "id": "dca_MtOIwy0x",
    "outputId": "fb8db29d-7eb1-4522-8ce0-362b30d53604"
   },
   "outputs": [
    {
     "name": "stdout",
     "output_type": "stream",
     "text": [
      "(35, 5) (5, 90)\n"
     ]
    }
   ],
   "source": [
    "u, sigma, v = spsplin.svds(X.asfptype(), k=5)\n",
    "print(u.shape, v.shape)"
   ]
  },
  {
   "cell_type": "code",
   "execution_count": null,
   "metadata": {
    "id": "3TtqJWG7IWQf"
   },
   "outputs": [],
   "source": [
    "# prompt: Explain how spsplin.svds work\n",
    "\n",
    "The code uses `scipy.sparse.linalg.svds` to perform Singular Value Decomposition (SVD) on a sparse matrix `X`. Let's break down what this function does and its role in the code:\n",
    "\n",
    "1. **`spsplin.svds(X.asfptype(), k=5)`**:\n",
    "   - `spsplin.svds` is a function from SciPy's sparse linear algebra module that computes the largest singular values and corresponding singular vectors of a sparse matrix.  It's optimized for sparse matrices, which means it's more efficient than using standard SVD algorithms on large matrices where most elements are zero.\n",
    "\n",
    "   - `X.asfptype()`:  Converts the sparse matrix `X` to a floating-point type. This is necessary because SVD operates on numerical data.\n",
    "\n",
    "   - `k=5`:  This is the crucial parameter. It specifies the number of singular values and corresponding singular vectors to compute. In this case, it's set to 5, meaning the function will return the 5 largest singular values and their corresponding left (u) and right (v) singular vectors.\n",
    "\n",
    "2. **`u, sigma, v = ...`**: The results of `spsplin.svds` are unpacked into three variables:\n",
    "   - `u`: A NumPy array representing the left singular vectors.  It will have shape (n_samples, k), where `n_samples` is the number of documents/rows in the original sparse matrix `X`, and `k` is 5 (the number of singular values requested).  Each column of `u` is a left singular vector.\n",
    "\n",
    "   - `sigma`: A 1D NumPy array containing the singular values, sorted in descending order.  Its shape is (k,).  These values represent the \"importance\" of each corresponding singular vector.\n",
    "\n",
    "   - `v`: A NumPy array representing the right singular vectors. It will have shape (k, n_features), where `n_features` is the number of unique words/terms in the vocabulary (the columns of `X`).  Each row of `v` is a right singular vector.\n",
    "\n",
    "3. **Purpose in the Context of the Code**:  The code creates a document-term matrix `X` using `CountVectorizer`. This matrix represents the frequency of each word in each document. SVD is then applied to this matrix to reduce its dimensionality while retaining important information.\n",
    "\n",
    "   - **Dimensionality Reduction**: SVD effectively captures the most significant relationships between words and documents. The top `k` singular values and vectors capture the main patterns in the data.  By using only the first 5 singular values and vectors, the code reduces the dimensionality of the data from a potentially large number of features (words) to just 5 latent \"topics.\"\n",
    "\n",
    "   - **Topic Modeling**:  The right singular vectors (`v`) in this context can be interpreted as topic representations.  Each row of `v` represents a latent topic, and the values within each row show the importance of each word to that particular topic.  The left singular vectors (`u`) represent document-topic relationships: each row shows the weight of each topic in a particular document.\n",
    "\n",
    "In summary, `spsplin.svds` is used for dimensionality reduction and to identify the main underlying \"topics\" in a collection of text documents. The `k=5` parameter indicates that the goal is to find 5 latent topics from the data.\n"
   ]
  },
  {
   "cell_type": "code",
   "execution_count": 131,
   "metadata": {
    "colab": {
     "base_uri": "https://localhost:8080/",
     "height": 483
    },
    "id": "PhkVHnmOxUqL",
    "outputId": "3832fe11-e106-4f11-eb48-d4960a670240"
   },
   "outputs": [
    {
     "data": {
      "image/png": "[encoded data removed]",
      "text/plain": [
       "<Figure size 640x480 with 1 Axes>"
      ]
     },
     "metadata": {},
     "output_type": "display_data"
    }
   ],
   "source": [
    "plt.plot(sigma[::-1]/sigma[-1])\n",
    "plt.xlabel(\"Singular Value Index\", fontsize=14)\n",
    "plt.ylabel(\"Singular Value\", fontsize=14)\n",
    "plt.title(\"Decay of Singular Values\", fontsize=16)\n",
    "plt.xticks(fontsize=12)\n",
    "plt.yticks(fontsize=12)\n",
    "plt.show()"
   ]
  },
  {
   "cell_type": "code",
   "execution_count": 132,
   "metadata": {
    "colab": {
     "base_uri": "https://localhost:8080/"
    },
    "id": "v3CdFE9IxXBC",
    "outputId": "b11897e4-332c-48e1-a261-b568a5f2bc5e"
   },
   "outputs": [
    {
     "name": "stdout",
     "output_type": "stream",
     "text": [
      "90\n",
      "['abril' 'actualizacion' 'asumio' 'batista' 'canel' 'cargo' 'castro'\n",
      " 'celebridad' 'clasificado' 'cojo' 'comunista' 'conocido' 'conocimientos'\n",
      " 'considere' 'controvers' 'controversia' 'controvertida' 'cristianismo'\n",
      " 'crucial' 'cuba' 'cubana' 'cubano' 'cuestion' 'depende' 'derroco'\n",
      " 'desarrollador' 'desarrollo' 'desempe' 'dgbdgh' 'diaz' 'dictador'\n",
      " 'dirigido' 'django' 'donald' 'empresario' 'establecer' 'establecio'\n",
      " 'estadounidense' 'estilo' 'estudiante' 'fidel' 'figura' 'freddy'\n",
      " 'fulgencio' 'goberno' 'gobierno' 'haber' 'hablas' 'historia'\n",
      " 'implementar' 'interesa' 'isla' 'legado' 'lider' 'liderado' 'liderar'\n",
      " 'lococococo' 'matriz' 'miguel' 'ministro' 'musical' 'nacionalistas'\n",
      " 'objeto' 'oficialmente' 'opiniones' 'papel' 'pepito' 'polemica'\n",
      " 'polemico' 'politicas' 'politico' 'president' 'presidenta' 'presidente'\n",
      " 'primer' 'produccion' 'regimen' 'revolucion' 'revolucionario' 'segun'\n",
      " 'sistema' 'subjetiva' 'terrorist' 'terrorista' 'tras' 'trump' 'ultima'\n",
      " 'unitaria' 'web' 'who']\n"
     ]
    }
   ],
   "source": [
    "terms = vectorizer.get_feature_names_out()\n",
    "print(len(terms))\n",
    "print(terms)"
   ]
  },
  {
   "cell_type": "code",
   "execution_count": null,
   "metadata": {
    "colab": {
     "base_uri": "https://localhost:8080/"
    },
    "id": "9O3_tQ3Exu1s",
    "outputId": "13229026-8ceb-49c0-9390-501d9ed8a0dc"
   },
   "outputs": [
    {
     "name": "stdout",
     "output_type": "stream",
     "text": [
      "(90,) 1.0\n",
      "Topic 0: \n",
      "Word: hablas, score: 0.6373629858416315\n",
      "Word: fidel, score: 0.5754640452767742\n",
      "Word: regimen, score: 0.08771900345394398\n",
      "Word: figura, score: 0.0695915500983351\n",
      "Word: haber, score: 0.05532050236208391\n",
      "(90,) 1.0\n",
      "Topic 1: \n",
      "Word: hablas, score: 0.28958203439569197\n",
      "Word: fidel, score: 0.27394944177884817\n",
      "Word: batista, score: 0.23750484737707853\n",
      "Word: derroco, score: 0.23750484737707853\n",
      "Word: fulgencio, score: 0.23750484737707853\n",
      "(90,) 0.9999999999999999\n",
      "Topic 2: \n",
      "Word: cojo, score: 0.7071067811865475\n",
      "Word: pepito, score: 0.7071067811865475\n",
      "Word: derroco, score: 1.3380255135651196e-15\n",
      "Word: fulgencio, score: 1.3380255135651196e-15\n",
      "Word: batista, score: 1.3380255135651194e-15\n",
      "(90,) 0.9999999999999999\n",
      "Topic 3: \n",
      "Word: castro, score: 0.08021777480376578\n",
      "Word: fidel, score: 0.07325249459100036\n",
      "Word: establecio, score: 0.06336077340517618\n",
      "Word: comunista, score: 0.0424549462475154\n",
      "Word: cubana, score: 0.0424549462475154\n",
      "(90,) 1.0000000000000002\n",
      "Topic 4: \n",
      "Word: castro, score: 0.32599903024985893\n",
      "Word: fidel, score: 0.3123258622058975\n",
      "Word: comunista, score: 0.2800030324774347\n",
      "Word: cubana, score: 0.2800030324774347\n",
      "Word: cubano, score: 0.2800030324774347\n",
      "hablas, fidel, regimen, figura, haber, \n",
      "\n",
      "hablas, fidel, batista, derroco, fulgencio, \n",
      "\n",
      "cojo, pepito, derroco, fulgencio, batista, \n",
      "\n",
      "castro, fidel, establecio, comunista, cubana, \n",
      "\n",
      "castro, fidel, comunista, cubana, cubano, \n",
      "\n"
     ]
    }
   ],
   "source": [
    "for i, comp in enumerate(v):\n",
    "    print(comp.shape, np.linalg.norm(comp))\n",
    "    terms_comp = zip(terms, comp)\n",
    "    sorted_terms = sorted(terms_comp, key= lambda x: x[1], reverse=True)[:5]\n",
    "    print(\"Topic \"+str(i)+\": \")\n",
    "    for t in sorted_terms:\n",
    "        print(\"Word: {}, score: {}\".format(t[0], t[1]))"
   ]
  },
  {
   "cell_type": "code",
   "execution_count": 61,
   "metadata": {
    "colab": {
     "base_uri": "https://localhost:8080/"
    },
    "id": "Nic_1zpWyB5D",
    "outputId": "5d1a4562-29a5-42e0-93e8-87d63411f47b"
   },
   "outputs": [
    {
     "name": "stdout",
     "output_type": "stream",
     "text": [
      "[32 13 19 13 25]\n",
      "Topic 0\n",
      "Y si me hablas de Fidel?\n",
      " \n",
      "Topic 1\n",
      "Fidel Castro fue un líder político cubano que desempeñó un papel crucial en la Revolución Cubana, que derrocó al dictador Fulgencio Batista en 1959. Castro estableció un gobierno comunista y fue primer ministro\n",
      " \n",
      "Topic 2\n",
      "Donald Trump es un empresario, celebridad y político estadounidense. Fue el 45.º presidente de EE. UU. (2017-2021), conocido por su estilo polémico y políticas nacionalistas.\n",
      " \n",
      "Topic 3\n",
      "Fidel Castro fue un líder político cubano que desempeñó un papel crucial en la Revolución Cubana, que derrocó al dictador Fulgencio Batista en 1959. Castro estableció un gobierno comunista y fue primer ministro\n",
      " \n",
      "Topic 4\n",
      "Freddy es estudiante y desarrollador web. Le interesa el desarrollo web con Django, la producción musical y el cristianismo.\n",
      " \n"
     ]
    }
   ],
   "source": [
    "top_docs = np.argmax(u, axis=0)\n",
    "print(top_docs)\n",
    "for i, j in enumerate(top_docs):\n",
    "    print(\"Topic {}\".format(i))\n",
    "    print(df.content[j])\n",
    "    print(\" \")"
   ]
  },
  {
   "cell_type": "code",
   "execution_count": 143,
   "metadata": {
    "id": "KjnJBTBKTYiU"
   },
   "outputs": [],
   "source": [
    "from gensim.models import CoherenceModel\n",
    "from gensim.corpora import Dictionary\n",
    "\n",
    "# Create a Dictionary from the tokenized documents\n",
    "id2word = Dictionary(tokenized_doc)\n",
    "corpus = [id2word.doc2bow(doc) for doc in tokenized_doc]"
   ]
  },
  {
   "cell_type": "code",
   "execution_count": 144,
   "metadata": {
    "colab": {
     "base_uri": "https://localhost:8080/"
    },
    "id": "NlJYzo9jyxsK",
    "outputId": "2f1ff725-1ac7-4417-854c-910ceb45aeec"
   },
   "outputs": [
    {
     "name": "stdout",
     "output_type": "stream",
     "text": [
      "Coherence Score: 0.6596747191842394\n"
     ]
    }
   ],
   "source": [
    "# Assuming 'v' from the SVD is available as a NumPy array\n",
    "# 'v' should have shape (k, n_features) where k is the number of topics\n",
    "# and n_features is the number of unique words\n",
    "\n",
    "# Convert 'v' to the correct format for CoherenceModel\n",
    "# Each row in 'v' represents a topic, and each element in the row represents a word's importance to the topic\n",
    "topics = []\n",
    "for i, comp in enumerate(v):\n",
    "  terms_comp = zip(terms, comp)\n",
    "  sorted_terms = sorted(terms_comp, key=lambda x: x[1], reverse=True)[:5]\n",
    "  topic_words = [t[0] for t in sorted_terms]\n",
    "  topics.append(topic_words)\n",
    "\n",
    "# Calculate coherence\n",
    "coherence_model = CoherenceModel(topics=topics, texts=tokenized_doc, dictionary=id2word, coherence='c_v')\n",
    "coherence_score_svd = coherence_model.get_coherence()\n",
    "\n",
    "print(f\"Coherence Score: {coherence_score_svd}\")"
   ]
  },
  {
   "cell_type": "markdown",
   "metadata": {
    "id": "tLSd0k-SbIbL"
   },
   "source": [
    "#K-means"
   ]
  },
  {
   "cell_type": "code",
   "execution_count": 145,
   "metadata": {
    "colab": {
     "base_uri": "https://localhost:8080/"
    },
    "id": "FYjJ_F0rntMN",
    "outputId": "bc41ea9b-2534-4321-8fee-74c98e959419"
   },
   "outputs": [
    {
     "name": "stdout",
     "output_type": "stream",
     "text": [
      "Feature Names:\n",
      " ['abril' 'actualizacion' 'asumio' 'batista' 'canel' 'cargo' 'castro'\n",
      " 'celebridad' 'clasificado' 'cojo' 'comunista' 'conocido' 'conocimientos'\n",
      " 'considere' 'controvers' 'controversia' 'controvertida' 'cristianismo'\n",
      " 'crucial' 'cuba' 'cubana' 'cubano' 'cuestion' 'depende' 'derroco'\n",
      " 'desarrollador' 'desarrollo' 'desempe' 'dgbdgh' 'diaz' 'dictador'\n",
      " 'dirigido' 'django' 'donald' 'empresario' 'establecer' 'establecio'\n",
      " 'estadounidense' 'estilo' 'estudiante' 'fidel' 'figura' 'freddy'\n",
      " 'fulgencio' 'goberno' 'gobierno' 'haber' 'hablas' 'historia'\n",
      " 'implementar' 'interesa' 'isla' 'legado' 'lider' 'liderado' 'liderar'\n",
      " 'lococococo' 'matriz' 'miguel' 'ministro' 'musical' 'nacionalistas'\n",
      " 'objeto' 'oficialmente' 'opiniones' 'papel' 'pepito' 'polemica'\n",
      " 'polemico' 'politicas' 'politico' 'president' 'presidenta' 'presidente'\n",
      " 'primer' 'produccion' 'regimen' 'revolucion' 'revolucionario' 'segun'\n",
      " 'sistema' 'subjetiva' 'terrorist' 'terrorista' 'tras' 'trump' 'ultima'\n",
      " 'unitaria' 'web' 'who']\n",
      "\n",
      "Cluster Assignments:\n",
      "Document 1: Cluster 1\n",
      "Document 2: Cluster 4\n",
      "Document 3: Cluster 1\n",
      "Document 4: Cluster 4\n",
      "Document 5: Cluster 1\n",
      "Document 6: Cluster 4\n",
      "Document 7: Cluster 1\n",
      "Document 8: Cluster 2\n",
      "Document 9: Cluster 1\n",
      "Document 10: Cluster 4\n",
      "Document 11: Cluster 1\n",
      "Document 12: Cluster 4\n",
      "Document 13: Cluster 1\n",
      "Document 14: Cluster 0\n",
      "Document 15: Cluster 1\n",
      "Document 16: Cluster 2\n",
      "Document 17: Cluster 1\n",
      "Document 18: Cluster 2\n",
      "Document 19: Cluster 1\n",
      "Document 20: Cluster 1\n",
      "Document 21: Cluster 1\n",
      "Document 22: Cluster 4\n",
      "Document 23: Cluster 1\n",
      "Document 24: Cluster 4\n",
      "Document 25: Cluster 1\n",
      "Document 26: Cluster 3\n",
      "Document 27: Cluster 1\n",
      "Document 28: Cluster 1\n",
      "Document 29: Cluster 1\n",
      "Document 30: Cluster 1\n",
      "Document 31: Cluster 1\n",
      "Document 32: Cluster 2\n",
      "Document 33: Cluster 1\n",
      "Document 34: Cluster 2\n",
      "Document 35: Cluster 1\n",
      "\n",
      "Cluster 0:\n",
      "Top Terms: castro, papel, revolucion, cubano, cubana\n",
      "\n",
      "Cluster 1:\n",
      "Top Terms: cuba, hablas, fidel, presidenta, presidente\n",
      "\n",
      "Cluster 2:\n",
      "Top Terms: goberno, castro, cubana, cubano, conocido\n",
      "\n",
      "Cluster 3:\n",
      "Top Terms: web, django, produccion, freddy, estudiante\n",
      "\n",
      "Cluster 4:\n",
      "Top Terms: cojo, pepito, who, dirigido, depende\n"
     ]
    }
   ],
   "source": [
    "from sklearn.cluster import KMeans\n",
    "from sklearn.decomposition import PCA\n",
    "\n",
    "# Display the feature names\n",
    "feature_names = vectorizer.get_feature_names_out()\n",
    "print(\"Feature Names:\\n\", feature_names)\n",
    "\n",
    "# 2. Apply K-means clustering\n",
    "num_clusters = 5  # Set the number of clusters (topics)\n",
    "kmeans = KMeans(n_clusters=num_clusters, random_state=42)\n",
    "kmeans.fit(X)\n",
    "\n",
    "# Get cluster assignments for each document\n",
    "labels = kmeans.labels_\n",
    "documents = df['clean_content'].tolist()\n",
    "\n",
    "# Print the cluster assignments\n",
    "print(\"\\nCluster Assignments:\")\n",
    "for i, doc in enumerate(documents):\n",
    "    print(f\"Document {i+1}: Cluster {labels[i]}\")\n",
    "\n",
    "# 3. Display the top terms in each cluster\n",
    "def print_top_terms_per_cluster(model, feature_names, n_terms=5):\n",
    "    for cluster_idx, centroid in enumerate(model.cluster_centers_):\n",
    "        print(f\"\\nCluster {cluster_idx}:\")\n",
    "        top_indices = centroid.argsort()[-n_terms:][::-1]\n",
    "        top_terms = [feature_names[i] for i in top_indices]\n",
    "        print(\"Top Terms:\", \", \".join(top_terms))\n",
    "\n",
    "print_top_terms_per_cluster(kmeans, feature_names)\n",
    "\n",
    "# 4. Visualize the clusters using PCA\n",
    "pca = PCA(n_components=2)\n",
    "X_pca = pca.fit_transform(X.toarray())\n"
   ]
  },
  {
   "cell_type": "code",
   "execution_count": 146,
   "metadata": {
    "colab": {
     "base_uri": "https://localhost:8080/",
     "height": 729
    },
    "id": "Ume0l7uknwOC",
    "outputId": "26c7048a-b297-48a0-d889-463bb208defb"
   },
   "outputs": [
    {
     "data": {
      "image/png": "[encoded data removed]",
      "text/plain": [
       "<Figure size 1500x800 with 2 Axes>"
      ]
     },
     "metadata": {},
     "output_type": "display_data"
    }
   ],
   "source": [
    "# Apply a logarithmic transformation to spread the points out\n",
    "X_pca_log = np.sign(X_pca) * np.log1p(np.abs(X_pca))\n",
    "\n",
    "# Add jitter to the points\n",
    "jitter_strength = 0.1\n",
    "X_pca_jittered = X_pca_log + np.random.normal(0, jitter_strength, X_pca_log.shape)\n",
    "\n",
    "# Plot the points with jitter and logarithmic transformation\n",
    "plt.figure(figsize=(15, 8))\n",
    "plt.scatter(X_pca_jittered[:, 0], X_pca_jittered[:, 1], c=labels, cmap='viridis', marker='o', s=100, edgecolor='k')\n",
    "\n",
    "# Annotate the points with document numbers\n",
    "for i, doc in enumerate(documents):\n",
    "    plt.annotate(f\"Doc {i+1}\", (X_pca_jittered[i, 0], X_pca_jittered[i, 1]), fontsize=10, ha='right')\n",
    "\n",
    "plt.title(\"K-means Clustering of Documents (Log Scale + Jitter)\", fontsize=18)\n",
    "plt.xlabel(\"Log-Scaled PCA Component 1\", fontsize=16)\n",
    "plt.ylabel(\"Log-Scaled PCA Component 2\", fontsize=16)\n",
    "plt.colorbar(label='Cluster')\n",
    "plt.grid(True)\n",
    "plt.show()"
   ]
  },
  {
   "cell_type": "code",
   "execution_count": 110,
   "metadata": {
    "colab": {
     "base_uri": "https://localhost:8080/"
    },
    "id": "zIU5hYKUotEE",
    "outputId": "0a15d0e6-6830-42c1-a260-e83d4080d76d"
   },
   "outputs": [
    {
     "name": "stdout",
     "output_type": "stream",
     "text": [
      "[['castro', 'papel', 'revolucion', 'cubano', 'cubana'], ['cuba', 'hablas', 'fidel', 'presidenta', 'presidente'], ['goberno', 'castro', 'cubana', 'cubano', 'conocido'], ['web', 'django', 'produccion', 'freddy', 'estudiante'], ['cojo', 'pepito', 'who', 'dirigido', 'depende']]\n",
      "C_v Coherence Score: 0.7244\n"
     ]
    }
   ],
   "source": [
    "# 5. Compute C_v coherence score\n",
    "# Convert the documents into a format suitable for Gensim\n",
    "# texts = [doc.lower().split() for doc in documents]\n",
    "# dictionary = Dictionary(texts)\n",
    "# corpus = [dictionary.doc2bow(text) for text in texts]\n",
    "\n",
    "# Extract top words per cluster to form topics\n",
    "def get_cluster_topics(model, feature_names, n_terms=5):\n",
    "    topics = []\n",
    "    for centroid in model.cluster_centers_:\n",
    "        top_indices = centroid.argsort()[-n_terms:][::-1]\n",
    "        top_terms = [feature_names[i] for i in top_indices]\n",
    "        topics.append(top_terms)\n",
    "    return topics\n",
    "\n",
    "topics = get_cluster_topics(kmeans, feature_names)\n",
    "print(topics)\n",
    "\n",
    "# Create a coherence model\n",
    "coherence_model = CoherenceModel(topics=topics, texts=tokenized_doc, dictionary=id2word, coherence='c_v')\n",
    "coherence_score_kmeans = coherence_model.get_coherence()\n",
    "print(f\"C_v Coherence Score: {coherence_score_kmeans:.4f}\")"
   ]
  },
  {
   "cell_type": "markdown",
   "metadata": {
    "id": "IYvyJ9PE4Te8"
   },
   "source": [
    "#OpenAI LLM"
   ]
  },
  {
   "cell_type": "code",
   "execution_count": null,
   "metadata": {
    "colab": {
     "base_uri": "https://localhost:8080/"
    },
    "id": "xy-6e8CzrT31",
    "outputId": "d3585ee8-822a-4a62-ac18-283f27cc3a80"
   },
   "outputs": [
    {
     "name": "stdout",
     "output_type": "stream",
     "text": [
      "Coherence Score (OpenAI Topics): 0.8441414906890733\n"
     ]
    }
   ],
   "source": [
    "from openai import OpenAI\n",
    "\n",
    "def get_key_topics(text):\n",
    "    sys_prompt_string = f\"{ANALYZE_TOPICS_PROMPT}\\nCONVERSATION:\\n{text}\"\n",
    "    client = OpenAI(\n",
    "        api_key='',\n",
    "    )\n",
    "    response = client.chat.completions.create(\n",
    "        model=\"gpt-4o-mini\",\n",
    "        messages=[\n",
    "            {\"role\": \"system\", \"content\": sys_prompt_string}\n",
    "        ],\n",
    "        max_tokens=200,\n",
    "        n=1,\n",
    "        stop=None,\n",
    "        temperature=0.5,\n",
    "    )\n",
    "    response_str = response.choices[0].message.content\n",
    "    key_topics = eval(response_str) # Evaluate string as python list\n",
    "    return key_topics\n",
    "\n",
    "text_data = \"\\n\".join(df['content'].astype(str).tolist()) # Combine all document content into one string.\n",
    "\n",
    "key_topics_openai = get_key_topics(text_data)\n",
    "\n",
    "# Convert key_topics_openai to token IDs using the dictionary\n",
    "key_topics_openai_ids = [[id2word.token2id.get(word.lower(), None) for word in topic] for topic in key_topics_openai]\n",
    "# Filter out None values (words not in dictionary)\n",
    "key_topics_openai_ids = [[token_id for token_id in topic if token_id is not None] for topic in key_topics_openai_ids]\n",
    "\n",
    "coherence_model = CoherenceModel(topics=key_topics_openai_ids, texts=texts, dictionary=dictionary, coherence='c_v') # use tokenized_doc as texts\n",
    "coherence_score_openai = coherence_model.get_coherence()\n",
    "print(f\"Coherence Score (OpenAI Topics): {coherence_score_openai}\")"
   ]
  },
  {
   "cell_type": "code",
   "execution_count": 113,
   "metadata": {
    "colab": {
     "base_uri": "https://localhost:8080/",
     "height": 569
    },
    "id": "bW234NzVuUbl",
    "outputId": "d678880f-7c8b-4e45-de03-14645a288854"
   },
   "outputs": [
    {
     "data": {
      "image/png": "[encoded data removed]",
      "text/plain": [
       "<Figure size 800x600 with 1 Axes>"
      ]
     },
     "metadata": {},
     "output_type": "display_data"
    }
   ],
   "source": [
    "# prompt: compare the coherence_score_openai, coherence_score_svd and coherence_score_kmeans in the plot\n",
    "\n",
    "import matplotlib.pyplot as plt\n",
    "\n",
    "coherence_scores = {\n",
    "    'OpenAI': coherence_score_openai,\n",
    "    'SVD': coherence_score_svd,\n",
    "    'KMeans': coherence_score_kmeans\n",
    "}\n",
    "\n",
    "methods = list(coherence_scores.keys())\n",
    "scores = list(coherence_scores.values())\n",
    "\n",
    "plt.figure(figsize=(8, 6))\n",
    "plt.bar(methods, scores, color=['skyblue', 'lightcoral', 'lightgreen'])\n",
    "plt.xlabel(\"Methods\", fontsize=12)\n",
    "plt.ylabel(\"Coherence Score\", fontsize=12)\n",
    "plt.title(\"Comparison of Coherence Scores\", fontsize=14)\n",
    "plt.ylim(0, 1)  # Adjust y-axis limits if needed\n",
    "\n",
    "for i, score in enumerate(scores):\n",
    "    plt.text(i, score + 0.01, f\"{score:.4f}\", ha='center', va='bottom', fontsize=12)\n",
    "\n",
    "plt.show()"
   ]
  },
  {
   "cell_type": "code",
   "execution_count": null,
   "metadata": {
    "id": "Q9qkaaXxwD-w"
   },
   "outputs": [],
   "source": []
  }
 ],
 "metadata": {
  "colab": {
   "provenance": []
  },
  "kernelspec": {
   "display_name": "Python 3",
   "name": "python3"
  },
  "language_info": {
   "name": "python"
  }
 },
 "nbformat": 4,
 "nbformat_minor": 0
}
